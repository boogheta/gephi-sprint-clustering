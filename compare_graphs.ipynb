{
 "cells": [
  {
   "cell_type": "code",
   "execution_count": 2,
   "id": "b58bae89",
   "metadata": {},
   "outputs": [
    {
     "data": {
      "application/vnd.jupyter.widget-view+json": {
       "model_id": "6f5fbbe2f7824df1aab44368ecc3bf85",
       "version_major": 2,
       "version_minor": 0
      },
      "text/plain": [
       "VBox(children=(HBox(children=(Sigma(nx.MultiGraph with 1,285 nodes and 7,524 edges), Sigma(nx.MultiGraph with …"
      ]
     },
     "metadata": {},
     "output_type": "display_data"
    }
   ],
   "source": [
    "import networkx as nx\n",
    "from ipysigma import Sigma\n",
    "from ipywidgets import HBox, VBox\n",
    "from pelote import read_graphology_json\n",
    "\n",
    "g = read_graphology_json(\"EuroSiS_with_louvains.json\")\n",
    "\n",
    "VBox([\n",
    "    HBox([\n",
    "        Sigma(g, node_size=\"clusterability_variance\", node_color=\"louvain_0\", node_size_range=[2,10], sync_key=\"youpi\"),\n",
    "        Sigma(g, node_size=\"clusterability_variance\", node_color=\"louvain_1\", node_size_range=[2,10], sync_key=\"youpi\")\n",
    "    ]),\n",
    "    HBox([\n",
    "        Sigma(g, node_size=\"clusterability_variance\", node_color=\"louvain_2\", node_size_range=[2,10], sync_key=\"youpi\"),\n",
    "        Sigma(g, node_size=\"clusterability_variance\", node_color=\"louvain_3\", node_size_range=[2,10], sync_key=\"youpi\")\n",
    "    ])\n",
    "])"
   ]
  }
 ],
 "metadata": {
  "kernelspec": {
   "display_name": "Python 3 (ipykernel)",
   "language": "python",
   "name": "python3"
  },
  "language_info": {
   "codemirror_mode": {
    "name": "ipython",
    "version": 3
   },
   "file_extension": ".py",
   "mimetype": "text/x-python",
   "name": "python",
   "nbconvert_exporter": "python",
   "pygments_lexer": "ipython3",
   "version": "3.9.5"
  }
 },
 "nbformat": 4,
 "nbformat_minor": 5
}
